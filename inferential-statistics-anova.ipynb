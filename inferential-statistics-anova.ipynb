{
 "cells": [
  {
   "cell_type": "markdown",
   "metadata": {},
   "source": [
    "# Lab | Inferential statistics - ANOVA\n"
   ]
  },
  {
   "cell_type": "code",
   "execution_count": 26,
   "metadata": {},
   "outputs": [],
   "source": [
    "import pandas as pd\n",
    "import numpy as np\n",
    "import scipy.stats as stats"
   ]
  },
  {
   "cell_type": "markdown",
   "metadata": {},
   "source": [
    "## Part 1\n",
    "\n",
    "In this activity, we will look at another example. Your task is to understand the problem and write down all the steps to set up ANOVA. After the next lesson, we will ask you to solve this problem using Python. Here are the steps that you would need to work on: - Null hypothesis - Alternate hypothesis - Level of significance - Test statistic - P-value - F table\n",
    "\n",
    "### Context\n",
    "\n",
    "Suppose you are working as an analyst in a microprocessor chip manufacturing plant. You have been given the task of analyzing a plasma etching process with respect to changing Power (in Watts) of the plasma beam. Data was collected and provided to you to conduct statistical analysis and check if changing the power of the plasma beam has any effect on the etching rate by the machine. You will conduct ANOVA and check if there is any difference in the mean etching rate for different levels of power. You can find the data anova_lab_data.xlsx file in the files_for_lab folder\n",
    "\n",
    "1. State the null hypothesis\n",
    "2. State the alternate hypothesis\n",
    "3. What is the significance level\n",
    "4. What are the degrees of freedom of model, error terms, and total DoF\n",
    "5. Data was collected randomly and provided to you in the table as shown: link to the image - Data\n"
   ]
  },
  {
   "cell_type": "markdown",
   "metadata": {},
   "source": [
    "#### Null Hypothesis\n",
    "The mean etching rate for every group is the same"
   ]
  },
  {
   "cell_type": "markdown",
   "metadata": {},
   "source": [
    "#### Alternate Hypothesis\n",
    "The mean etching rate for every group is **not** the same"
   ]
  },
  {
   "cell_type": "markdown",
   "metadata": {},
   "source": [
    "#### Significance Level\n",
    "0.05 or 5% \n",
    "- If the p-value is less than or equal to the significance level, you reject the null hypothesis and conclude not all population means are equal."
   ]
  },
  {
   "cell_type": "markdown",
   "metadata": {},
   "source": [
    "#### Degrees of freedom\n",
    "2 \n",
    "- the number of power options minus 1"
   ]
  },
  {
   "cell_type": "markdown",
   "metadata": {},
   "source": [
    "#### Degrees of freedom error terms\n",
    "12 \n",
    "- the total number of observations minus the number of groups"
   ]
  },
  {
   "cell_type": "markdown",
   "metadata": {},
   "source": [
    "#### Critical Value\n",
    "3.8533"
   ]
  },
  {
   "cell_type": "code",
   "execution_count": 2,
   "metadata": {},
   "outputs": [],
   "source": [
    "# #### Total Degres of Freedom\n",
    "# 14 \n",
    "# - the product of the degrees of freedom for power and the degrees of freedom for trials"
   ]
  },
  {
   "cell_type": "markdown",
   "metadata": {},
   "source": [
    "## Steps of ANOVA"
   ]
  },
  {
   "cell_type": "markdown",
   "metadata": {},
   "source": [
    "- Check sample sizes, we need an equal number of observations in each group.\n",
    "- Calculate Mean Square for each group.\n",
    "- Calculate Mean Square error.\n",
    "- Calculate F-value by dividing the difference between groups to the difference within groups.\n",
    "- Using the F-distribution Table for deciding on the Null Hypothesis.\n"
   ]
  },
  {
   "cell_type": "markdown",
   "metadata": {},
   "source": [
    "# Part 2\n",
    "\n",
    "In this section, use the Python to conduct ANOVA.\n",
    "- What conclusions can you draw from the experiment and why?"
   ]
  },
  {
   "cell_type": "code",
   "execution_count": 15,
   "metadata": {},
   "outputs": [],
   "source": [
    "data = pd.read_excel(\"C:/Users/jw156/Ironhack/Day38/Morning/lab-inferential-statistics-anova/files_for_lab/anova_lab_data.xlsx\")"
   ]
  },
  {
   "cell_type": "code",
   "execution_count": 16,
   "metadata": {},
   "outputs": [
    {
     "data": {
      "text/plain": [
       "Index(['Power ', 'Etching Rate'], dtype='object')"
      ]
     },
     "execution_count": 16,
     "metadata": {},
     "output_type": "execute_result"
    }
   ],
   "source": [
    "data.columns"
   ]
  },
  {
   "cell_type": "code",
   "execution_count": 19,
   "metadata": {},
   "outputs": [
    {
     "data": {
      "text/html": [
       "<div>\n",
       "<style scoped>\n",
       "    .dataframe tbody tr th:only-of-type {\n",
       "        vertical-align: middle;\n",
       "    }\n",
       "\n",
       "    .dataframe tbody tr th {\n",
       "        vertical-align: top;\n",
       "    }\n",
       "\n",
       "    .dataframe thead th {\n",
       "        text-align: right;\n",
       "    }\n",
       "</style>\n",
       "<table border=\"1\" class=\"dataframe\">\n",
       "  <thead>\n",
       "    <tr style=\"text-align: right;\">\n",
       "      <th></th>\n",
       "      <th>Power</th>\n",
       "      <th>Etching Rate</th>\n",
       "    </tr>\n",
       "  </thead>\n",
       "  <tbody>\n",
       "    <tr>\n",
       "      <th>0</th>\n",
       "      <td>160 W</td>\n",
       "      <td>5.43</td>\n",
       "    </tr>\n",
       "    <tr>\n",
       "      <th>1</th>\n",
       "      <td>180 W</td>\n",
       "      <td>6.24</td>\n",
       "    </tr>\n",
       "    <tr>\n",
       "      <th>2</th>\n",
       "      <td>200 W</td>\n",
       "      <td>8.79</td>\n",
       "    </tr>\n",
       "    <tr>\n",
       "      <th>3</th>\n",
       "      <td>160 W</td>\n",
       "      <td>5.71</td>\n",
       "    </tr>\n",
       "    <tr>\n",
       "      <th>4</th>\n",
       "      <td>180 W</td>\n",
       "      <td>6.71</td>\n",
       "    </tr>\n",
       "    <tr>\n",
       "      <th>5</th>\n",
       "      <td>200 W</td>\n",
       "      <td>9.20</td>\n",
       "    </tr>\n",
       "    <tr>\n",
       "      <th>6</th>\n",
       "      <td>160 W</td>\n",
       "      <td>6.22</td>\n",
       "    </tr>\n",
       "    <tr>\n",
       "      <th>7</th>\n",
       "      <td>180 W</td>\n",
       "      <td>5.98</td>\n",
       "    </tr>\n",
       "    <tr>\n",
       "      <th>8</th>\n",
       "      <td>200 W</td>\n",
       "      <td>7.90</td>\n",
       "    </tr>\n",
       "    <tr>\n",
       "      <th>9</th>\n",
       "      <td>160 W</td>\n",
       "      <td>6.01</td>\n",
       "    </tr>\n",
       "    <tr>\n",
       "      <th>10</th>\n",
       "      <td>180 W</td>\n",
       "      <td>5.66</td>\n",
       "    </tr>\n",
       "    <tr>\n",
       "      <th>11</th>\n",
       "      <td>200 W</td>\n",
       "      <td>8.15</td>\n",
       "    </tr>\n",
       "    <tr>\n",
       "      <th>12</th>\n",
       "      <td>160 W</td>\n",
       "      <td>5.59</td>\n",
       "    </tr>\n",
       "    <tr>\n",
       "      <th>13</th>\n",
       "      <td>180 W</td>\n",
       "      <td>6.60</td>\n",
       "    </tr>\n",
       "    <tr>\n",
       "      <th>14</th>\n",
       "      <td>200 W</td>\n",
       "      <td>7.55</td>\n",
       "    </tr>\n",
       "  </tbody>\n",
       "</table>\n",
       "</div>"
      ],
      "text/plain": [
       "    Power  Etching Rate\n",
       "0   160 W          5.43\n",
       "1   180 W          6.24\n",
       "2   200 W          8.79\n",
       "3   160 W          5.71\n",
       "4   180 W          6.71\n",
       "5   200 W          9.20\n",
       "6   160 W          6.22\n",
       "7   180 W          5.98\n",
       "8   200 W          7.90\n",
       "9   160 W          6.01\n",
       "10  180 W          5.66\n",
       "11  200 W          8.15\n",
       "12  160 W          5.59\n",
       "13  180 W          6.60\n",
       "14  200 W          7.55"
      ]
     },
     "execution_count": 19,
     "metadata": {},
     "output_type": "execute_result"
    }
   ],
   "source": [
    "data"
   ]
  },
  {
   "cell_type": "code",
   "execution_count": 17,
   "metadata": {},
   "outputs": [],
   "source": [
    "data.columns = ['Power','Etching Rate']\n"
   ]
  },
  {
   "cell_type": "code",
   "execution_count": 18,
   "metadata": {},
   "outputs": [
    {
     "name": "stdout",
     "output_type": "stream",
     "text": [
      "Global mean 6.782666666666667\n",
      "The group means are:  [('160 W', 5.792), ('180 W', 6.2379999999999995), ('200 W', 8.318)]\n"
     ]
    }
   ],
   "source": [
    "# Global mean:\n",
    "gm = np.mean(data['Etching Rate'])\n",
    "print(\"Global mean\",gm)\n",
    "\n",
    "# Mean of every group:\n",
    "group_averages = [(group,np.mean(data[data['Power'] == group]['Etching Rate'])) for group in list(data['Power'].unique())] \n",
    "print(\"The group means are: \",group_averages)"
   ]
  },
  {
   "cell_type": "code",
   "execution_count": 20,
   "metadata": {},
   "outputs": [
    {
     "name": "stdout",
     "output_type": "stream",
     "text": [
      "\\hat{S}_{t}^{2} is:  9.088326666666667\n"
     ]
    }
   ],
   "source": [
    "numerator = 0\n",
    "for group in group_averages:\n",
    "    numerator += len(data[data['Power'] == group[0]]['Etching Rate'].values) * ( group[1] - gm )**2\n",
    "numerator = numerator / ( len(data['Power'].unique()) - 1 ) \n",
    "\n",
    "print(\"\\hat{S}_{t}^{2} is: \", numerator)"
   ]
  },
  {
   "cell_type": "code",
   "execution_count": 21,
   "metadata": {},
   "outputs": [
    {
     "name": "stdout",
     "output_type": "stream",
     "text": [
      "\\hat{S}_{e}^{2} is:  0.24643666666666644\n"
     ]
    }
   ],
   "source": [
    "denominator = 0\n",
    "for group in group_averages: \n",
    "    for value in data[data['Power'] == group[0]]['Etching Rate'].values:\n",
    "        denominator += (value - group[1])**2\n",
    "denominator = denominator / ( len(data) - len(data['Power'].unique()) )\n",
    "\n",
    "print(\"\\hat{S}_{e}^{2} is: \",denominator)"
   ]
  },
  {
   "cell_type": "code",
   "execution_count": 22,
   "metadata": {},
   "outputs": [
    {
     "name": "stdout",
     "output_type": "stream",
     "text": [
      "The F statistic is:  36.87895470100503\n"
     ]
    }
   ],
   "source": [
    "F = numerator / denominator\n",
    "\n",
    "print(\"The F statistic is: \",F)"
   ]
  },
  {
   "cell_type": "markdown",
   "metadata": {},
   "source": [
    "### Using the critical value"
   ]
  },
  {
   "cell_type": "code",
   "execution_count": 31,
   "metadata": {},
   "outputs": [
    {
     "data": {
      "text/plain": [
       "F_onewayResult(statistic=36.87895470100505, pvalue=7.506584272358903e-06)"
      ]
     },
     "execution_count": 31,
     "metadata": {},
     "output_type": "execute_result"
    }
   ],
   "source": [
    "stats.f_oneway(data['Etching Rate'][data['Power'] == '160 W'],\n",
    "               data['Etching Rate'][data['Power'] == '180 W'],\n",
    "               data['Etching Rate'][data['Power'] == '200 W'])\n"
   ]
  },
  {
   "cell_type": "code",
   "execution_count": null,
   "metadata": {},
   "outputs": [],
   "source": []
  }
 ],
 "metadata": {
  "kernelspec": {
   "display_name": "Python 3",
   "language": "python",
   "name": "python3"
  },
  "language_info": {
   "codemirror_mode": {
    "name": "ipython",
    "version": 3
   },
   "file_extension": ".py",
   "mimetype": "text/x-python",
   "name": "python",
   "nbconvert_exporter": "python",
   "pygments_lexer": "ipython3",
   "version": "3.7.9"
  }
 },
 "nbformat": 4,
 "nbformat_minor": 4
}
